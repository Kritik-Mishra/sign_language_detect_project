{
 "cells": [
  {
   "cell_type": "code",
   "execution_count": 1,
   "id": "0c3fa822",
   "metadata": {},
   "outputs": [],
   "source": [
    "import keras\n",
    "import cv2\n",
    "import mediapipe as mp\n",
    "import numpy as np\n",
    "from tqdm import tqdm\n",
    "mp_drawing = mp.solutions.drawing_utils\n",
    "mp_drawing_styles = mp.solutions.drawing_styles\n",
    "mp_hands = mp.solutions.hands\n",
    "model=keras.models.load_model(r\"C:\\Users\\prem\\Downloads\\sign_language_model-20230415T130502Z-001\\sign_language_model\")\n",
    "labels_={0:'0',\n",
    " 1:'1',\n",
    " 2:'2',\n",
    " 3:'3',\n",
    " 4:'4',\n",
    " 5:'5',\n",
    " 6:'6',\n",
    " 7:'7',\n",
    " 8:'8',\n",
    " 9:'9',\n",
    " 10:'A',\n",
    " 11:'B',\n",
    " 12:'C',\n",
    " 13:'D',\n",
    " 14:'E',\n",
    " 15:'F',\n",
    " 16:'G',\n",
    " 17:'H',\n",
    " 18:'I',\n",
    " 19:'J',\n",
    " 20:'K',\n",
    " 21:'L',\n",
    " 22:'M',\n",
    " 23:'N',\n",
    " 24:'O',\n",
    " 25:'P',\n",
    " 26:'Q',\n",
    " 27:'R',\n",
    " 28:'S',\n",
    " 29:'T',\n",
    " 30:'U',\n",
    " 31:'V',\n",
    " 32:'W',\n",
    " 33:'X',\n",
    " 34:'Y',\n",
    " 35:'Z'}"
   ]
  },
  {
   "cell_type": "code",
   "execution_count": 2,
   "id": "a8c8585f",
   "metadata": {},
   "outputs": [],
   "source": [
    "def ans_could_be(list1,list2,labels_):\n",
    "\n",
    "    for i in range(0,len(list1)):\n",
    "        for j in range(0,len(list1)-i-1):\n",
    "            if(list1[j]<list1[j+1]):\n",
    "                list1[j],list1[j+1]=list1[j+1],list1[j]\n",
    "                list2[j+1],list2[j]=list2[j],list2[j+1]\n",
    "\n",
    "    print(list1[0],\": \",labels_[list2[0]],list2[0])\n",
    "    print(list1[1],\": \",labels_[list2[1]],list2[1])\n",
    "    print(list1[2],\": \",labels_[list2[2]],list2[2])\n",
    "def func(x):\n",
    "    IMAGE_FILES_ = [x]\n",
    "    data_=[]\n",
    "    with mp_hands.Hands(\n",
    "        static_image_mode=True,\n",
    "        max_num_hands=2,\n",
    "        min_detection_confidence=0.2) as hands:\n",
    "        for file in tqdm(IMAGE_FILES_):\n",
    "            image = cv2.flip(cv2.imread(file), 1)\n",
    "            results = hands.process(cv2.cvtColor(image, cv2.COLOR_BGR2RGB))\n",
    "            temp=[]\n",
    "            if not results.multi_hand_landmarks:\n",
    "                for k in range(0,84):\n",
    "                    temp.append(0)\n",
    "                #print(file)\n",
    "            elif len(results.multi_hand_landmarks)==2:\n",
    "            \n",
    "                for k in range(0,len(results.multi_hand_landmarks)):\n",
    "                    for d in results.multi_hand_landmarks[k].landmark:\n",
    "                        temp.append(d.x)\n",
    "                        temp.append(d.y)\n",
    "                    \n",
    "            else:\n",
    "                for k in range(0,len(results.multi_hand_landmarks)):\n",
    "                    for d in results.multi_hand_landmarks[k].landmark:\n",
    "                        temp.append(d.x)\n",
    "                        temp.append(d.y)\n",
    "                    \n",
    "                for k in range(0,42):\n",
    "                    temp.append(0)\n",
    "            data_.append(temp)\n",
    "    test=np.array(data_)\n",
    "    ans=model.predict(test)\n",
    "    #print(ans)\n",
    "    p=np.array([np.argmax(i) for i in ans])\n",
    "    list2=[]\n",
    "    for i in range(0,36):\n",
    "        list2.append(i)\n",
    "    ans_could_be(ans[0],list2,labels_)"
   ]
  },
  {
   "cell_type": "code",
   "execution_count": null,
   "id": "2c69de1e",
   "metadata": {},
   "outputs": [],
   "source": []
  },
  {
   "cell_type": "code",
   "execution_count": 3,
   "id": "a20826ea",
   "metadata": {},
   "outputs": [
    {
     "name": "stdout",
     "output_type": "stream",
     "text": [
      "C:\\USERS\\PREM\\DOWNLOADS\\1.JPG\n"
     ]
    },
    {
     "name": "stderr",
     "output_type": "stream",
     "text": [
      "100%|██████████| 1/1 [00:00<00:00,  5.77it/s]\n"
     ]
    },
    {
     "name": "stdout",
     "output_type": "stream",
     "text": [
      "1/1 [==============================] - 1s 547ms/step\n",
      "0.999749 :  B 11\n",
      "0.00024282653 :  Z 35\n",
      "2.9042164e-06 :  K 20\n"
     ]
    }
   ],
   "source": [
    "\n",
    "x=input()\n",
    "func(x)\n",
    "\n",
    "    "
   ]
  },
  {
   "cell_type": "code",
   "execution_count": null,
   "id": "2008b1f6",
   "metadata": {},
   "outputs": [],
   "source": []
  }
 ],
 "metadata": {
  "kernelspec": {
   "display_name": "Python 3 (ipykernel)",
   "language": "python",
   "name": "python3"
  },
  "language_info": {
   "codemirror_mode": {
    "name": "ipython",
    "version": 3
   },
   "file_extension": ".py",
   "mimetype": "text/x-python",
   "name": "python",
   "nbconvert_exporter": "python",
   "pygments_lexer": "ipython3",
   "version": "3.10.9"
  }
 },
 "nbformat": 4,
 "nbformat_minor": 5
}
